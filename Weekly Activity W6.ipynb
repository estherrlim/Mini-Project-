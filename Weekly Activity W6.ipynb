{
 "cells": [
  {
   "cell_type": "code",
   "execution_count": 2,
   "id": "672c89e5",
   "metadata": {},
   "outputs": [],
   "source": [
    "import numpy as np\n",
    "import cv2 as cv "
   ]
  },
  {
   "cell_type": "code",
   "execution_count": 3,
   "id": "a83889b2",
   "metadata": {},
   "outputs": [],
   "source": [
    "# Question 1\n",
    "img = cv.imread('dog.jfif')\n",
    "img_copy = img.copy()\n",
    "\n",
    "def crop_grid(img,num_horizontal_grid,num_vertical_grid,line_color):\n",
    "    \n",
    "    height, width = img.shape[:2]\n",
    "\n",
    "    M, N = int(height/num_horizontal_grid), int(width/num_vertical_grid)\n",
    "    x1, y1 = 0, 0\n",
    "\n",
    "    for y in range(0, height, M):\n",
    "        for x in range(0, width, N):\n",
    "                \n",
    "            y1 = y + M    \n",
    "            x1 = x + N\n",
    "            \n",
    "            if x1 >= width and y1 >= height:\n",
    "                x1 = width - 1\n",
    "                y1 = height - 1\n",
    "                tile = img[y:height, x:width]\n",
    "                cv.rectangle(img_copy, (x, y), (x1, y1), line_color, 1)\n",
    "                cv.imshow('tile', tile)\n",
    "           \n",
    "            elif y1 >= height:\n",
    "                y1 = height - 1\n",
    "                cv.rectangle(img_copy, (x, y), (x1, y1), line_color, 1)\n",
    "                \n",
    "            elif x1 >= width:\n",
    "                x1 = width - 1\n",
    "                cv.rectangle(img_copy, (x, y), (x1, y1), line_color, 1)\n",
    "            \n",
    "            else:\n",
    "                cv.rectangle(img_copy, (x, y), (x1, y1),line_color, 1)\n",
    "\n",
    "    cv.imshow('Patched Image', img_copy)\n",
    "    cv.waitKey(0)\n",
    "    cv.destroyAllWindows()"
   ]
  },
  {
   "cell_type": "code",
   "execution_count": 14,
   "id": "b36ca2c1",
   "metadata": {},
   "outputs": [],
   "source": [
    "# Question 2\n",
    "img = cv.imread('lena.jfif')\n",
    "img1 = cv.imread('coins.jfif')\n",
    "\n",
    "img = cv.resize(img,(100,100))\n",
    "newShape = img.shape[:2]\n",
    "img1 = cv.resize(img1, newShape)\n",
    "a,b = 1,0\n",
    "dst = []\n",
    "for x in range(2):\n",
    "    dst.extend([cv.addWeighted(img, a, img1, b, 0)])\n",
    "    a -= 0.25 \n",
    "    b += 0.25\n",
    "\n",
    "for x in range(3):\n",
    "    dst.extend([cv.addWeighted(img, a, img1, b, 0)])\n",
    "    a += 0.25 \n",
    "    b -= 0.25\n",
    "\n",
    "imgArray = np.array(dst,dtype=np.uint8)\n",
    "\n",
    "multiImg = np.hstack(imgArray)\n",
    "\n",
    "cv.imshow('Patched Image', multiImg)\n",
    "cv.waitKey(0)\n",
    "cv.destroyAllWindows()"
   ]
  },
  {
   "cell_type": "code",
   "execution_count": 26,
   "id": "8b739f38",
   "metadata": {},
   "outputs": [],
   "source": [
    "# Question 3 \n",
    "img = cv.imread('lena.jfif')\n",
    "rows, cols = img.shape[:2]\n",
    "M = cv.getRotationMatrix2D(((cols+70), (rows-190)), 45, 1)\n",
    "dst = cv.warpAffine(img, M, (2*cols, 2*rows))\n",
    "\n",
    "cv.imshow('Rotated Image', dst)\n",
    "cv.waitKey(0)\n",
    "cv.destroyAllWindows()"
   ]
  },
  {
   "cell_type": "code",
   "execution_count": 29,
   "id": "5de7d2e6",
   "metadata": {},
   "outputs": [],
   "source": [
    "# Question 4\n",
    "img = cv.imread('native-bee.png')\n",
    "img1 = cv.imread('flower.jfif')\n",
    "\n",
    "rows,cols,channels = img1.shape\n",
    "roi = img[0:rows, 0:cols]\n",
    "\n",
    "img1gray = cv.cvtColor(img1,cv.COLOR_BGR2GRAY)\n",
    "ret, mask = cv.threshold(img1gray, 70, 255, cv.THRESH_BINARY)\n",
    "\n",
    "mask_inv = cv.bitwise_not(mask)\n",
    "img_bg = cv.bitwise_or(roi,roi,mask = mask_inv)\n",
    "img1_fg = cv.bitwise_and(img1,img1,mask = mask)\n",
    "\n",
    "dst = cv.add(img_bg,img1_fg)\n",
    "img[0:rows, 0:cols ] = dst\n",
    "cv.imshow('Result',img)\n",
    "cv.waitKey(0)\n",
    "cv.destroyAllWindows()"
   ]
  }
 ],
 "metadata": {
  "kernelspec": {
   "display_name": "Python 3 (ipykernel)",
   "language": "python",
   "name": "python3"
  },
  "language_info": {
   "codemirror_mode": {
    "name": "ipython",
    "version": 3
   },
   "file_extension": ".py",
   "mimetype": "text/x-python",
   "name": "python",
   "nbconvert_exporter": "python",
   "pygments_lexer": "ipython3",
   "version": "3.9.12"
  }
 },
 "nbformat": 4,
 "nbformat_minor": 5
}
