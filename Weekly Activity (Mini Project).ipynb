{
 "cells": [
  {
   "cell_type": "code",
   "execution_count": null,
   "id": "2896f43b",
   "metadata": {},
   "outputs": [],
   "source": [
    "# Q1 first method \n",
    "import cv2 as cv \n",
    "color_img = cv.imread('lena.png')     \n",
    "grayscale_img = cv.imread('lena.png', 0)    \n",
    "\n",
    "cv.imshow('Color Image',color_img)\n",
    "cv.imshow('Grayscale Image', grayscale_img)\n",
    "cv.waitKey(0)\n",
    "cv.destroyAllWindows()\n",
    "\n",
    "# Q1 second method concatenate \n",
    "import cv2 as cv \n",
    "import numpy as np \n",
    "color_img = cv.imread('lena.png')\n",
    "grayscale_img = cv.cvtColor(color_img, cv.COLOR_BGR2GRAY)\n",
    "grayscale_image_3 = cv.cvtColor(grayscale_img, cv.COLOR_GRAY2BGR)\n",
    "\n",
    "multi_img = np.concatenate((color_img, grayscale_image_3), axis=1)\n",
    "cv.imshow('Multiple Image', multi_img)\n",
    "cv.waitKey(0)\n",
    "cv.destroyAllWindows()"
   ]
  },
  {
   "cell_type": "code",
   "execution_count": null,
   "id": "4f96075b",
   "metadata": {},
   "outputs": [],
   "source": [
    "# Q2 \n",
    "import cv2 as cv\n",
    "video = cv.VideoCapture('img_pexels.mp4')\n",
    "width = int(video.get(3)/3)\n",
    "height = int(video.get(4)/3)\n",
    "fourcc = cv.VideoWriter_fourcc('M', 'J', 'P', 'G')\n",
    "fps = 20\n",
    "out = cv.VideoWriter('smaller_img_pexels.avi', fourcc, fps, (width, height))\n",
    "\n",
    "while video.isOpened():\n",
    "    ret, frame = video.read()\n",
    "    if not ret:\n",
    "        print(\"Can't receive frame.\")\n",
    "        break\n",
    "    \n",
    "    frame_resize = cv.resize(frame, (width, height), interpolation = cv.INTER_LINEAR)\n",
    "    out.write(frame_resize)\n",
    "    \n",
    "    cv.imshow('Frame', frame_resize)\n",
    "    if cv.waitKey(1) & 0xFF == 27: \n",
    "        break\n",
    "\n",
    "video.release()\n",
    "out.release()\n",
    "cv.destroyAllWindows()"
   ]
  },
  {
   "cell_type": "code",
   "execution_count": null,
   "id": "8362ffdc",
   "metadata": {},
   "outputs": [],
   "source": [
    "# Q3\n",
    "import numpy as np \n",
    "import cv2 as cv\n",
    "noise = np.array([np.random.randint(0,255,3) for i in range(65536)], dtype = 'uint8')\n",
    "noise = np.reshape(noise, (256, 256, 3))\n",
    "noise_grayscale = cv.cvtColor(noise, cv.COLOR_BGR2GRAY)\n",
    "  \n",
    "cv.imshow('Noise in Color', noise)\n",
    "cv.imshow('Noise in Grayscale',noise_grayscale)\n",
    "cv.waitKey(0)\n",
    "cv.destroyAllWindows()"
   ]
  }
 ],
 "metadata": {
  "kernelspec": {
   "display_name": "Python 3 (ipykernel)",
   "language": "python",
   "name": "python3"
  },
  "language_info": {
   "codemirror_mode": {
    "name": "ipython",
    "version": 3
   },
   "file_extension": ".py",
   "mimetype": "text/x-python",
   "name": "python",
   "nbconvert_exporter": "python",
   "pygments_lexer": "ipython3",
   "version": "3.9.12"
  }
 },
 "nbformat": 4,
 "nbformat_minor": 5
}
